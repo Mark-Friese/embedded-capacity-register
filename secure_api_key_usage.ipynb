# Using Environment Variables to Securely Store API Keys

In this notebook, we will demonstrate how to securely store and use API keys using environment variables.

## Setting Environment Variables

### Method 1: Setting Environment Variables in the Anaconda Prompt

1. **Open Anaconda Prompt**:
   - Find and open the Anaconda Prompt from your Start menu (Windows) or terminal (Mac/Linux).

2. **Set the Environment Variable**:
   - On Windows, use the `set` command:
     ```cmd
     set IDENTIFIER_API_KEY=your_api_key_here
     ```
   - On Mac/Linux, use the `export` command:
     ```bash
     export IDENTIFIER_API_KEY=your_api_key_here
     ```

3. **Run Your Script**:
   - Navigate to the directory containing your Python script using the `cd` command.
   - Run your Python script:
     ```bash
     python your_script.py
     ```

### Method 2: Using a `.env` File with `python-dotenv`

You can also use a `.env` file to store your environment variables and use the `python-dotenv` package to load them in your script.

1. **Create a `.env` File**:
   - In the same directory as your script, create a file named `.env`.
   - Add your API key to the `.env` file:
     ```plaintext
     IDENTIFIER_API_KEY=your_api_key_here
     ```

2. **Install `python-dotenv`**:
   - Install the `python-dotenv` package:
     ```bash
     pip install python-dotenv
     ```

3. **Modify Your Script to Load the `.env` File**:
   - Update your script to load the environment variables from the `.env` file:
     ```python
     import os
     from dotenv import load_dotenv

     # Load environment variables from .env file
     load_dotenv()

     # Read API key from environment variable
     api_key = os.getenv('IDENTIFIER_API_KEY')
     if not api_key:
         raise ValueError("No API key found. Please set the IDENTIFIER_API_KEY environment variable.")
     ```

4. **Run Your Script**:
   - Run your script as usual:
     ```bash
     python your_script.py
     ```

This setup will allow you to securely store your API key and use it in your Python scripts without hardcoding it into your source code.
